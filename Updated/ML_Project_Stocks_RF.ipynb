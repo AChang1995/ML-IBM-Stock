{
 "cells": [
  {
   "cell_type": "markdown",
   "metadata": {
    "id": "0IpOZbTs9AcJ"
   },
   "source": [
    "Lets import all the pkgs needed"
   ]
  },
  {
   "cell_type": "code",
   "execution_count": 43,
   "metadata": {
    "executionInfo": {
     "elapsed": 926,
     "status": "ok",
     "timestamp": 1637692351048,
     "user": {
      "displayName": "Andy Chang",
      "photoUrl": "https://lh3.googleusercontent.com/a/default-user=s64",
      "userId": "01519398712879810205"
     },
     "user_tz": 300
    },
    "id": "MRNEiXOW8pj5"
   },
   "outputs": [],
   "source": [
    "import os\n",
    "import pandas as pd\n",
    "import seaborn as sns\n",
    "import numpy as np\n",
    "from scipy import stats\n",
    "from sklearn.tree import DecisionTreeClassifier\n",
    "from sklearn.ensemble import AdaBoostClassifier, BaggingClassifier\n",
    "from sklearn.model_selection import train_test_split, cross_val_score,GridSearchCV\n",
    "from sklearn.metrics import accuracy_score\n",
    "from sklearn.linear_model import LinearRegression\n",
    "from sklearn.model_selection import cross_val_score\n",
    "from sklearn.model_selection import RepeatedKFold\n",
    "from sklearn.linear_model import Ridge, Lasso, ElasticNet\n",
    "from sklearn.ensemble import BaggingClassifier, RandomForestClassifier, BaggingRegressor, RandomForestRegressor\n",
    "from sklearn.preprocessing import StandardScaler\n",
    "import datetime\n",
    "\n",
    "import matplotlib.pyplot as plt"
   ]
  },
  {
   "cell_type": "markdown",
   "metadata": {
    "id": "NMtpZy-z9JMT"
   },
   "source": [
    "We start by reading in the data"
   ]
  },
  {
   "cell_type": "code",
   "execution_count": 44,
   "metadata": {
    "colab": {
     "base_uri": "https://localhost:8080/",
     "height": 398
    },
    "executionInfo": {
     "elapsed": 165,
     "status": "error",
     "timestamp": 1637692370004,
     "user": {
      "displayName": "Andy Chang",
      "photoUrl": "https://lh3.googleusercontent.com/a/default-user=s64",
      "userId": "01519398712879810205"
     },
     "user_tz": 300
    },
    "id": "_yPvLaVd9VOe",
    "outputId": "25e21068-0dcf-4198-dd0d-34a85fffb2c6"
   },
   "outputs": [
    {
     "data": {
      "text/html": [
       "<div>\n",
       "<style scoped>\n",
       "    .dataframe tbody tr th:only-of-type {\n",
       "        vertical-align: middle;\n",
       "    }\n",
       "\n",
       "    .dataframe tbody tr th {\n",
       "        vertical-align: top;\n",
       "    }\n",
       "\n",
       "    .dataframe thead th {\n",
       "        text-align: right;\n",
       "    }\n",
       "</style>\n",
       "<table border=\"1\" class=\"dataframe\">\n",
       "  <thead>\n",
       "    <tr style=\"text-align: right;\">\n",
       "      <th></th>\n",
       "      <th>Unnamed: 0</th>\n",
       "      <th>date</th>\n",
       "      <th>IBM_open</th>\n",
       "      <th>IBM_high</th>\n",
       "      <th>IBM_low</th>\n",
       "      <th>IBM_close</th>\n",
       "      <th>IBM_volume</th>\n",
       "      <th>NASDAQ_open</th>\n",
       "      <th>NASDAQ_high</th>\n",
       "      <th>NASDAQ_low</th>\n",
       "      <th>...</th>\n",
       "      <th>NASDAQ_Adj_close</th>\n",
       "      <th>NASDAQ_volume</th>\n",
       "      <th>SP_close</th>\n",
       "      <th>SP_Volume</th>\n",
       "      <th>SP_Open</th>\n",
       "      <th>SP_High</th>\n",
       "      <th>SP_low</th>\n",
       "      <th>interest_rate</th>\n",
       "      <th>gdp</th>\n",
       "      <th>yield_rate</th>\n",
       "    </tr>\n",
       "  </thead>\n",
       "  <tbody>\n",
       "    <tr>\n",
       "      <th>0</th>\n",
       "      <td>0</td>\n",
       "      <td>2012-01-01</td>\n",
       "      <td>NaN</td>\n",
       "      <td>NaN</td>\n",
       "      <td>NaN</td>\n",
       "      <td>NaN</td>\n",
       "      <td>NaN</td>\n",
       "      <td>NaN</td>\n",
       "      <td>NaN</td>\n",
       "      <td>NaN</td>\n",
       "      <td>...</td>\n",
       "      <td>NaN</td>\n",
       "      <td>NaN</td>\n",
       "      <td>NaN</td>\n",
       "      <td>NaN</td>\n",
       "      <td>NaN</td>\n",
       "      <td>NaN</td>\n",
       "      <td>NaN</td>\n",
       "      <td>NaN</td>\n",
       "      <td>16068.824</td>\n",
       "      <td>NaN</td>\n",
       "    </tr>\n",
       "    <tr>\n",
       "      <th>1</th>\n",
       "      <td>1</td>\n",
       "      <td>2012-01-02</td>\n",
       "      <td>NaN</td>\n",
       "      <td>NaN</td>\n",
       "      <td>NaN</td>\n",
       "      <td>NaN</td>\n",
       "      <td>NaN</td>\n",
       "      <td>NaN</td>\n",
       "      <td>NaN</td>\n",
       "      <td>NaN</td>\n",
       "      <td>...</td>\n",
       "      <td>NaN</td>\n",
       "      <td>NaN</td>\n",
       "      <td>1257.60</td>\n",
       "      <td>--</td>\n",
       "      <td>0.00</td>\n",
       "      <td>0.00</td>\n",
       "      <td>0.00</td>\n",
       "      <td>.</td>\n",
       "      <td>16068.824</td>\n",
       "      <td>NaN</td>\n",
       "    </tr>\n",
       "    <tr>\n",
       "      <th>2</th>\n",
       "      <td>2</td>\n",
       "      <td>2012-01-03</td>\n",
       "      <td>124.5256</td>\n",
       "      <td>125.8460</td>\n",
       "      <td>124.0388</td>\n",
       "      <td>124.2388</td>\n",
       "      <td>5646000.0</td>\n",
       "      <td>2657.389893</td>\n",
       "      <td>2665.899902</td>\n",
       "      <td>2641.97998</td>\n",
       "      <td>...</td>\n",
       "      <td>2648.719971</td>\n",
       "      <td>1.636850e+09</td>\n",
       "      <td>1277.06</td>\n",
       "      <td>--</td>\n",
       "      <td>1258.86</td>\n",
       "      <td>1284.62</td>\n",
       "      <td>1258.86</td>\n",
       "      <td>2.01</td>\n",
       "      <td>16068.824</td>\n",
       "      <td>1.97</td>\n",
       "    </tr>\n",
       "    <tr>\n",
       "      <th>3</th>\n",
       "      <td>3</td>\n",
       "      <td>2012-01-04</td>\n",
       "      <td>123.7520</td>\n",
       "      <td>124.2589</td>\n",
       "      <td>123.3319</td>\n",
       "      <td>123.7320</td>\n",
       "      <td>4346700.0</td>\n",
       "      <td>2639.899902</td>\n",
       "      <td>2653.179932</td>\n",
       "      <td>2627.22998</td>\n",
       "      <td>...</td>\n",
       "      <td>2648.360107</td>\n",
       "      <td>1.670530e+09</td>\n",
       "      <td>1277.30</td>\n",
       "      <td>--</td>\n",
       "      <td>1277.03</td>\n",
       "      <td>1278.73</td>\n",
       "      <td>1268.10</td>\n",
       "      <td>2.08</td>\n",
       "      <td>16068.824</td>\n",
       "      <td>2.00</td>\n",
       "    </tr>\n",
       "    <tr>\n",
       "      <th>4</th>\n",
       "      <td>4</td>\n",
       "      <td>2012-01-05</td>\n",
       "      <td>123.2452</td>\n",
       "      <td>123.3919</td>\n",
       "      <td>122.1048</td>\n",
       "      <td>123.1452</td>\n",
       "      <td>4463100.0</td>\n",
       "      <td>2642.570068</td>\n",
       "      <td>2673.560059</td>\n",
       "      <td>2631.22998</td>\n",
       "      <td>...</td>\n",
       "      <td>2669.860107</td>\n",
       "      <td>1.836410e+09</td>\n",
       "      <td>1281.06</td>\n",
       "      <td>--</td>\n",
       "      <td>1277.30</td>\n",
       "      <td>1283.05</td>\n",
       "      <td>1265.26</td>\n",
       "      <td>2.12</td>\n",
       "      <td>16068.824</td>\n",
       "      <td>2.02</td>\n",
       "    </tr>\n",
       "  </tbody>\n",
       "</table>\n",
       "<p>5 rows × 21 columns</p>\n",
       "</div>"
      ],
      "text/plain": [
       "   Unnamed: 0        date  IBM_open  IBM_high   IBM_low  IBM_close  \\\n",
       "0           0  2012-01-01       NaN       NaN       NaN        NaN   \n",
       "1           1  2012-01-02       NaN       NaN       NaN        NaN   \n",
       "2           2  2012-01-03  124.5256  125.8460  124.0388   124.2388   \n",
       "3           3  2012-01-04  123.7520  124.2589  123.3319   123.7320   \n",
       "4           4  2012-01-05  123.2452  123.3919  122.1048   123.1452   \n",
       "\n",
       "   IBM_volume  NASDAQ_open  NASDAQ_high  NASDAQ_low  ...  NASDAQ_Adj_close  \\\n",
       "0         NaN          NaN          NaN         NaN  ...               NaN   \n",
       "1         NaN          NaN          NaN         NaN  ...               NaN   \n",
       "2   5646000.0  2657.389893  2665.899902  2641.97998  ...       2648.719971   \n",
       "3   4346700.0  2639.899902  2653.179932  2627.22998  ...       2648.360107   \n",
       "4   4463100.0  2642.570068  2673.560059  2631.22998  ...       2669.860107   \n",
       "\n",
       "   NASDAQ_volume  SP_close  SP_Volume  SP_Open  SP_High   SP_low  \\\n",
       "0            NaN       NaN        NaN      NaN      NaN      NaN   \n",
       "1            NaN   1257.60         --     0.00     0.00     0.00   \n",
       "2   1.636850e+09   1277.06         --  1258.86  1284.62  1258.86   \n",
       "3   1.670530e+09   1277.30         --  1277.03  1278.73  1268.10   \n",
       "4   1.836410e+09   1281.06         --  1277.30  1283.05  1265.26   \n",
       "\n",
       "   interest_rate        gdp  yield_rate  \n",
       "0            NaN  16068.824         NaN  \n",
       "1              .  16068.824         NaN  \n",
       "2           2.01  16068.824        1.97  \n",
       "3           2.08  16068.824        2.00  \n",
       "4           2.12  16068.824        2.02  \n",
       "\n",
       "[5 rows x 21 columns]"
      ]
     },
     "execution_count": 44,
     "metadata": {},
     "output_type": "execute_result"
    }
   ],
   "source": [
    "data = pd.read_csv(\"final_dataset_stocks.csv\")\n",
    "data.head()"
   ]
  },
  {
   "cell_type": "markdown",
   "metadata": {
    "id": "OAq_WiJO9PNj"
   },
   "source": [
    "We will drop the index column that came with the dataset "
   ]
  },
  {
   "cell_type": "code",
   "execution_count": 45,
   "metadata": {
    "id": "-zp0xJvE9b8X"
   },
   "outputs": [],
   "source": [
    "data.drop(columns=['Unnamed: 0'], inplace=True)"
   ]
  },
  {
   "cell_type": "markdown",
   "metadata": {
    "id": "CvmQrQxY9Ut2"
   },
   "source": [
    "we will drop the rows that includes na"
   ]
  },
  {
   "cell_type": "code",
   "execution_count": 46,
   "metadata": {
    "id": "neA3QBbq9gZi"
   },
   "outputs": [],
   "source": [
    "#The rows with NaN are days when market was closed. I will be deleting those rows.\n",
    "data.dropna(inplace=True)"
   ]
  },
  {
   "cell_type": "code",
   "execution_count": 47,
   "metadata": {
    "colab": {
     "base_uri": "https://localhost:8080/",
     "height": 309
    },
    "executionInfo": {
     "elapsed": 117,
     "status": "ok",
     "timestamp": 1637188148562,
     "user": {
      "displayName": "Ritu Bansal",
      "photoUrl": "https://lh3.googleusercontent.com/a/default-user=s64",
      "userId": "08875853237305836615"
     },
     "user_tz": 300
    },
    "id": "NI9ADFAX-LHW",
    "outputId": "42549f04-eedf-4d7e-98a4-32edce6d7689"
   },
   "outputs": [
    {
     "data": {
      "text/html": [
       "<div>\n",
       "<style scoped>\n",
       "    .dataframe tbody tr th:only-of-type {\n",
       "        vertical-align: middle;\n",
       "    }\n",
       "\n",
       "    .dataframe tbody tr th {\n",
       "        vertical-align: top;\n",
       "    }\n",
       "\n",
       "    .dataframe thead th {\n",
       "        text-align: right;\n",
       "    }\n",
       "</style>\n",
       "<table border=\"1\" class=\"dataframe\">\n",
       "  <thead>\n",
       "    <tr style=\"text-align: right;\">\n",
       "      <th></th>\n",
       "      <th>date</th>\n",
       "      <th>IBM_open</th>\n",
       "      <th>IBM_high</th>\n",
       "      <th>IBM_low</th>\n",
       "      <th>IBM_close</th>\n",
       "      <th>IBM_volume</th>\n",
       "      <th>NASDAQ_open</th>\n",
       "      <th>NASDAQ_high</th>\n",
       "      <th>NASDAQ_low</th>\n",
       "      <th>NASDAQ_close</th>\n",
       "      <th>NASDAQ_Adj_close</th>\n",
       "      <th>NASDAQ_volume</th>\n",
       "      <th>SP_close</th>\n",
       "      <th>SP_Volume</th>\n",
       "      <th>SP_Open</th>\n",
       "      <th>SP_High</th>\n",
       "      <th>SP_low</th>\n",
       "      <th>interest_rate</th>\n",
       "      <th>gdp</th>\n",
       "      <th>yield_rate</th>\n",
       "    </tr>\n",
       "  </thead>\n",
       "  <tbody>\n",
       "    <tr>\n",
       "      <th>2</th>\n",
       "      <td>2012-01-03</td>\n",
       "      <td>124.5256</td>\n",
       "      <td>125.8460</td>\n",
       "      <td>124.0388</td>\n",
       "      <td>124.2388</td>\n",
       "      <td>5646000.0</td>\n",
       "      <td>2657.389893</td>\n",
       "      <td>2665.899902</td>\n",
       "      <td>2641.979980</td>\n",
       "      <td>2648.719971</td>\n",
       "      <td>2648.719971</td>\n",
       "      <td>1.636850e+09</td>\n",
       "      <td>1277.06</td>\n",
       "      <td>--</td>\n",
       "      <td>1258.86</td>\n",
       "      <td>1284.62</td>\n",
       "      <td>1258.86</td>\n",
       "      <td>2.01</td>\n",
       "      <td>16068.824</td>\n",
       "      <td>1.97</td>\n",
       "    </tr>\n",
       "    <tr>\n",
       "      <th>3</th>\n",
       "      <td>2012-01-04</td>\n",
       "      <td>123.7520</td>\n",
       "      <td>124.2589</td>\n",
       "      <td>123.3319</td>\n",
       "      <td>123.7320</td>\n",
       "      <td>4346700.0</td>\n",
       "      <td>2639.899902</td>\n",
       "      <td>2653.179932</td>\n",
       "      <td>2627.229980</td>\n",
       "      <td>2648.360107</td>\n",
       "      <td>2648.360107</td>\n",
       "      <td>1.670530e+09</td>\n",
       "      <td>1277.30</td>\n",
       "      <td>--</td>\n",
       "      <td>1277.03</td>\n",
       "      <td>1278.73</td>\n",
       "      <td>1268.10</td>\n",
       "      <td>2.08</td>\n",
       "      <td>16068.824</td>\n",
       "      <td>2.00</td>\n",
       "    </tr>\n",
       "    <tr>\n",
       "      <th>4</th>\n",
       "      <td>2012-01-05</td>\n",
       "      <td>123.2452</td>\n",
       "      <td>123.3919</td>\n",
       "      <td>122.1048</td>\n",
       "      <td>123.1452</td>\n",
       "      <td>4463100.0</td>\n",
       "      <td>2642.570068</td>\n",
       "      <td>2673.560059</td>\n",
       "      <td>2631.229980</td>\n",
       "      <td>2669.860107</td>\n",
       "      <td>2669.860107</td>\n",
       "      <td>1.836410e+09</td>\n",
       "      <td>1281.06</td>\n",
       "      <td>--</td>\n",
       "      <td>1277.30</td>\n",
       "      <td>1283.05</td>\n",
       "      <td>1265.26</td>\n",
       "      <td>2.12</td>\n",
       "      <td>16068.824</td>\n",
       "      <td>2.02</td>\n",
       "    </tr>\n",
       "    <tr>\n",
       "      <th>5</th>\n",
       "      <td>2012-01-06</td>\n",
       "      <td>122.9651</td>\n",
       "      <td>123.0251</td>\n",
       "      <td>121.5780</td>\n",
       "      <td>121.7314</td>\n",
       "      <td>4897100.0</td>\n",
       "      <td>2671.169922</td>\n",
       "      <td>2682.120117</td>\n",
       "      <td>2658.830078</td>\n",
       "      <td>2674.219971</td>\n",
       "      <td>2674.219971</td>\n",
       "      <td>1.683090e+09</td>\n",
       "      <td>1277.81</td>\n",
       "      <td>--</td>\n",
       "      <td>1280.93</td>\n",
       "      <td>1281.84</td>\n",
       "      <td>1273.34</td>\n",
       "      <td>2.09</td>\n",
       "      <td>16068.824</td>\n",
       "      <td>1.98</td>\n",
       "    </tr>\n",
       "    <tr>\n",
       "      <th>8</th>\n",
       "      <td>2012-01-09</td>\n",
       "      <td>121.5047</td>\n",
       "      <td>121.5513</td>\n",
       "      <td>120.2176</td>\n",
       "      <td>121.0979</td>\n",
       "      <td>5201200.0</td>\n",
       "      <td>2682.979980</td>\n",
       "      <td>2683.780029</td>\n",
       "      <td>2662.959961</td>\n",
       "      <td>2676.560059</td>\n",
       "      <td>2676.560059</td>\n",
       "      <td>1.768080e+09</td>\n",
       "      <td>1280.70</td>\n",
       "      <td>--</td>\n",
       "      <td>1277.83</td>\n",
       "      <td>1281.99</td>\n",
       "      <td>1274.55</td>\n",
       "      <td>2.11</td>\n",
       "      <td>16068.824</td>\n",
       "      <td>1.98</td>\n",
       "    </tr>\n",
       "  </tbody>\n",
       "</table>\n",
       "</div>"
      ],
      "text/plain": [
       "         date  IBM_open  IBM_high   IBM_low  IBM_close  IBM_volume  \\\n",
       "2  2012-01-03  124.5256  125.8460  124.0388   124.2388   5646000.0   \n",
       "3  2012-01-04  123.7520  124.2589  123.3319   123.7320   4346700.0   \n",
       "4  2012-01-05  123.2452  123.3919  122.1048   123.1452   4463100.0   \n",
       "5  2012-01-06  122.9651  123.0251  121.5780   121.7314   4897100.0   \n",
       "8  2012-01-09  121.5047  121.5513  120.2176   121.0979   5201200.0   \n",
       "\n",
       "   NASDAQ_open  NASDAQ_high   NASDAQ_low  NASDAQ_close  NASDAQ_Adj_close  \\\n",
       "2  2657.389893  2665.899902  2641.979980   2648.719971       2648.719971   \n",
       "3  2639.899902  2653.179932  2627.229980   2648.360107       2648.360107   \n",
       "4  2642.570068  2673.560059  2631.229980   2669.860107       2669.860107   \n",
       "5  2671.169922  2682.120117  2658.830078   2674.219971       2674.219971   \n",
       "8  2682.979980  2683.780029  2662.959961   2676.560059       2676.560059   \n",
       "\n",
       "   NASDAQ_volume  SP_close SP_Volume  SP_Open  SP_High   SP_low interest_rate  \\\n",
       "2   1.636850e+09   1277.06        --  1258.86  1284.62  1258.86          2.01   \n",
       "3   1.670530e+09   1277.30        --  1277.03  1278.73  1268.10          2.08   \n",
       "4   1.836410e+09   1281.06        --  1277.30  1283.05  1265.26          2.12   \n",
       "5   1.683090e+09   1277.81        --  1280.93  1281.84  1273.34          2.09   \n",
       "8   1.768080e+09   1280.70        --  1277.83  1281.99  1274.55          2.11   \n",
       "\n",
       "         gdp yield_rate  \n",
       "2  16068.824       1.97  \n",
       "3  16068.824       2.00  \n",
       "4  16068.824       2.02  \n",
       "5  16068.824       1.98  \n",
       "8  16068.824       1.98  "
      ]
     },
     "execution_count": 47,
     "metadata": {},
     "output_type": "execute_result"
    }
   ],
   "source": [
    "data.head()"
   ]
  },
  {
   "cell_type": "markdown",
   "metadata": {
    "id": "RlrGZEjRBKbt"
   },
   "source": [
    "Even though we have removed null values, there still might be wrong non-numeric values here. Let's look at those dtypes."
   ]
  },
  {
   "cell_type": "code",
   "execution_count": 48,
   "metadata": {
    "colab": {
     "base_uri": "https://localhost:8080/",
     "height": 419
    },
    "executionInfo": {
     "elapsed": 104,
     "status": "ok",
     "timestamp": 1637188175765,
     "user": {
      "displayName": "Ritu Bansal",
      "photoUrl": "https://lh3.googleusercontent.com/a/default-user=s64",
      "userId": "08875853237305836615"
     },
     "user_tz": 300
    },
    "id": "I4LrE5LaBPlV",
    "outputId": "77ee3ade-2c0b-4815-b60d-55e8f9e7cf7a"
   },
   "outputs": [
    {
     "data": {
      "text/html": [
       "<div>\n",
       "<style scoped>\n",
       "    .dataframe tbody tr th:only-of-type {\n",
       "        vertical-align: middle;\n",
       "    }\n",
       "\n",
       "    .dataframe tbody tr th {\n",
       "        vertical-align: top;\n",
       "    }\n",
       "\n",
       "    .dataframe thead th {\n",
       "        text-align: right;\n",
       "    }\n",
       "</style>\n",
       "<table border=\"1\" class=\"dataframe\">\n",
       "  <thead>\n",
       "    <tr style=\"text-align: right;\">\n",
       "      <th></th>\n",
       "      <th>date</th>\n",
       "      <th>SP_Volume</th>\n",
       "      <th>interest_rate</th>\n",
       "      <th>yield_rate</th>\n",
       "    </tr>\n",
       "  </thead>\n",
       "  <tbody>\n",
       "    <tr>\n",
       "      <th>2</th>\n",
       "      <td>2012-01-03</td>\n",
       "      <td>--</td>\n",
       "      <td>2.01</td>\n",
       "      <td>1.97</td>\n",
       "    </tr>\n",
       "    <tr>\n",
       "      <th>3</th>\n",
       "      <td>2012-01-04</td>\n",
       "      <td>--</td>\n",
       "      <td>2.08</td>\n",
       "      <td>2.00</td>\n",
       "    </tr>\n",
       "    <tr>\n",
       "      <th>4</th>\n",
       "      <td>2012-01-05</td>\n",
       "      <td>--</td>\n",
       "      <td>2.12</td>\n",
       "      <td>2.02</td>\n",
       "    </tr>\n",
       "    <tr>\n",
       "      <th>5</th>\n",
       "      <td>2012-01-06</td>\n",
       "      <td>--</td>\n",
       "      <td>2.09</td>\n",
       "      <td>1.98</td>\n",
       "    </tr>\n",
       "    <tr>\n",
       "      <th>8</th>\n",
       "      <td>2012-01-09</td>\n",
       "      <td>--</td>\n",
       "      <td>2.11</td>\n",
       "      <td>1.98</td>\n",
       "    </tr>\n",
       "    <tr>\n",
       "      <th>...</th>\n",
       "      <td>...</td>\n",
       "      <td>...</td>\n",
       "      <td>...</td>\n",
       "      <td>...</td>\n",
       "    </tr>\n",
       "    <tr>\n",
       "      <th>3601</th>\n",
       "      <td>2021-11-10</td>\n",
       "      <td>--</td>\n",
       "      <td>2.7</td>\n",
       "      <td>1.56</td>\n",
       "    </tr>\n",
       "    <tr>\n",
       "      <th>3602</th>\n",
       "      <td>2021-11-11</td>\n",
       "      <td>--</td>\n",
       "      <td>.</td>\n",
       "      <td>.</td>\n",
       "    </tr>\n",
       "    <tr>\n",
       "      <th>3603</th>\n",
       "      <td>2021-11-12</td>\n",
       "      <td>--</td>\n",
       "      <td>2.73</td>\n",
       "      <td>1.58</td>\n",
       "    </tr>\n",
       "    <tr>\n",
       "      <th>3606</th>\n",
       "      <td>2021-11-15</td>\n",
       "      <td>--</td>\n",
       "      <td>2.76</td>\n",
       "      <td>1.63</td>\n",
       "    </tr>\n",
       "    <tr>\n",
       "      <th>3607</th>\n",
       "      <td>2021-11-16</td>\n",
       "      <td>--</td>\n",
       "      <td>2.73</td>\n",
       "      <td>1.63</td>\n",
       "    </tr>\n",
       "  </tbody>\n",
       "</table>\n",
       "<p>2486 rows × 4 columns</p>\n",
       "</div>"
      ],
      "text/plain": [
       "            date SP_Volume interest_rate yield_rate\n",
       "2     2012-01-03        --          2.01       1.97\n",
       "3     2012-01-04        --          2.08       2.00\n",
       "4     2012-01-05        --          2.12       2.02\n",
       "5     2012-01-06        --          2.09       1.98\n",
       "8     2012-01-09        --          2.11       1.98\n",
       "...          ...       ...           ...        ...\n",
       "3601  2021-11-10        --           2.7       1.56\n",
       "3602  2021-11-11        --             .          .\n",
       "3603  2021-11-12        --          2.73       1.58\n",
       "3606  2021-11-15        --          2.76       1.63\n",
       "3607  2021-11-16        --          2.73       1.63\n",
       "\n",
       "[2486 rows x 4 columns]"
      ]
     },
     "execution_count": 48,
     "metadata": {},
     "output_type": "execute_result"
    }
   ],
   "source": [
    "data.select_dtypes(include=[object])"
   ]
  },
  {
   "cell_type": "code",
   "execution_count": 49,
   "metadata": {
    "colab": {
     "base_uri": "https://localhost:8080/"
    },
    "executionInfo": {
     "elapsed": 138,
     "status": "ok",
     "timestamp": 1637188208196,
     "user": {
      "displayName": "Ritu Bansal",
      "photoUrl": "https://lh3.googleusercontent.com/a/default-user=s64",
      "userId": "08875853237305836615"
     },
     "user_tz": 300
    },
    "id": "ltfGdBJxBSYu",
    "outputId": "6c445633-f6d4-4761-ffca-91e1c46fa409"
   },
   "outputs": [
    {
     "data": {
      "text/plain": [
       "--    2486\n",
       "Name: SP_Volume, dtype: int64"
      ]
     },
     "execution_count": 49,
     "metadata": {},
     "output_type": "execute_result"
    }
   ],
   "source": [
    "data['SP_Volume'].value_counts()"
   ]
  },
  {
   "cell_type": "markdown",
   "metadata": {
    "id": "3tyCy-YSBZCj"
   },
   "source": [
    "Since all values are null, we will drop this column."
   ]
  },
  {
   "cell_type": "code",
   "execution_count": 50,
   "metadata": {
    "id": "TGKJYnciBbXz"
   },
   "outputs": [],
   "source": [
    "data.drop(columns=['SP_Volume'], inplace=True)"
   ]
  },
  {
   "cell_type": "markdown",
   "metadata": {
    "id": "_Q44qPzTB0FE"
   },
   "source": [
    "Next, we can notice some values in columns 'interest_rate' and 'yeild_rate' are \".\"\n",
    "\n",
    "Let us replace it by the next numeric value in the series."
   ]
  },
  {
   "cell_type": "code",
   "execution_count": 51,
   "metadata": {
    "id": "2gf3KcxsDJkp"
   },
   "outputs": [],
   "source": [
    "#Replacing values in yield_curves\n",
    "for i in range(len(data)):\n",
    "  if data.iloc[i,-1] == '.':\n",
    "    data.iloc[i,-1] = data.iloc[i + 1,-1] "
   ]
  },
  {
   "cell_type": "code",
   "execution_count": 52,
   "metadata": {
    "colab": {
     "base_uri": "https://localhost:8080/"
    },
    "executionInfo": {
     "elapsed": 99,
     "status": "ok",
     "timestamp": 1637188867129,
     "user": {
      "displayName": "Ritu Bansal",
      "photoUrl": "https://lh3.googleusercontent.com/a/default-user=s64",
      "userId": "08875853237305836615"
     },
     "user_tz": 300
    },
    "id": "6w8m0zs_DsCV",
    "outputId": "6e183eb2-b847-4312-c6f8-7e64f39961a5"
   },
   "outputs": [
    {
     "data": {
      "text/plain": [
       "16"
      ]
     },
     "execution_count": 52,
     "metadata": {},
     "output_type": "execute_result"
    }
   ],
   "source": [
    "data.columns.get_loc(\"interest_rate\")"
   ]
  },
  {
   "cell_type": "code",
   "execution_count": 53,
   "metadata": {
    "id": "D-m6qT3kDiT8"
   },
   "outputs": [],
   "source": [
    "#Replacing values in interest rate\n",
    "for i in range(len(data)):\n",
    "  if data.iloc[i,16] == '.':\n",
    "    data.iloc[i,16] = data.iloc[i + 1,16] "
   ]
  },
  {
   "cell_type": "code",
   "execution_count": 54,
   "metadata": {
    "id": "8MXCcPaSD-ER"
   },
   "outputs": [],
   "source": [
    "#Converting the above columns into float\n",
    "data['yield_rate'] = data['yield_rate'].astype('float')\n",
    "data['interest_rate'] = data['interest_rate'].astype('float')\n",
    "df=data"
   ]
  },
  {
   "cell_type": "code",
   "execution_count": 55,
   "metadata": {
    "id": "HOJY2EdlE7yA"
   },
   "outputs": [],
   "source": [
    "#Finally lets convert date string to datetime format\n",
    "#for i in range(len(data)):\n",
    "  #data.iloc[i,0] = datetime.datetime.strptime(data.iloc[i,0], '%Y-%m-%d')\n",
    "\n",
    "data['date'] = pd.to_numeric(pd.to_datetime(data['date']))"
   ]
  },
  {
   "cell_type": "code",
   "execution_count": 56,
   "metadata": {
    "colab": {
     "base_uri": "https://localhost:8080/",
     "height": 394
    },
    "executionInfo": {
     "elapsed": 99,
     "status": "ok",
     "timestamp": 1637189356140,
     "user": {
      "displayName": "Ritu Bansal",
      "photoUrl": "https://lh3.googleusercontent.com/a/default-user=s64",
      "userId": "08875853237305836615"
     },
     "user_tz": 300
    },
    "id": "cjdGzLv7Fvnn",
    "outputId": "916d5aca-4c84-40d9-ca53-547dd2a6352e"
   },
   "outputs": [
    {
     "data": {
      "text/html": [
       "<div>\n",
       "<style scoped>\n",
       "    .dataframe tbody tr th:only-of-type {\n",
       "        vertical-align: middle;\n",
       "    }\n",
       "\n",
       "    .dataframe tbody tr th {\n",
       "        vertical-align: top;\n",
       "    }\n",
       "\n",
       "    .dataframe thead th {\n",
       "        text-align: right;\n",
       "    }\n",
       "</style>\n",
       "<table border=\"1\" class=\"dataframe\">\n",
       "  <thead>\n",
       "    <tr style=\"text-align: right;\">\n",
       "      <th></th>\n",
       "      <th>date</th>\n",
       "      <th>IBM_open</th>\n",
       "      <th>IBM_high</th>\n",
       "      <th>IBM_low</th>\n",
       "      <th>IBM_close</th>\n",
       "      <th>IBM_volume</th>\n",
       "      <th>NASDAQ_open</th>\n",
       "      <th>NASDAQ_high</th>\n",
       "      <th>NASDAQ_low</th>\n",
       "      <th>NASDAQ_close</th>\n",
       "      <th>NASDAQ_Adj_close</th>\n",
       "      <th>NASDAQ_volume</th>\n",
       "      <th>SP_close</th>\n",
       "      <th>SP_Open</th>\n",
       "      <th>SP_High</th>\n",
       "      <th>SP_low</th>\n",
       "      <th>interest_rate</th>\n",
       "      <th>gdp</th>\n",
       "      <th>yield_rate</th>\n",
       "    </tr>\n",
       "  </thead>\n",
       "  <tbody>\n",
       "    <tr>\n",
       "      <th>2</th>\n",
       "      <td>1325548800000000000</td>\n",
       "      <td>124.5256</td>\n",
       "      <td>125.8460</td>\n",
       "      <td>124.0388</td>\n",
       "      <td>124.2388</td>\n",
       "      <td>5646000.0</td>\n",
       "      <td>2657.389893</td>\n",
       "      <td>2665.899902</td>\n",
       "      <td>2641.979980</td>\n",
       "      <td>2648.719971</td>\n",
       "      <td>2648.719971</td>\n",
       "      <td>1.636850e+09</td>\n",
       "      <td>1277.06</td>\n",
       "      <td>1258.86</td>\n",
       "      <td>1284.62</td>\n",
       "      <td>1258.86</td>\n",
       "      <td>2.01</td>\n",
       "      <td>16068.824</td>\n",
       "      <td>1.97</td>\n",
       "    </tr>\n",
       "    <tr>\n",
       "      <th>3</th>\n",
       "      <td>1325635200000000000</td>\n",
       "      <td>123.7520</td>\n",
       "      <td>124.2589</td>\n",
       "      <td>123.3319</td>\n",
       "      <td>123.7320</td>\n",
       "      <td>4346700.0</td>\n",
       "      <td>2639.899902</td>\n",
       "      <td>2653.179932</td>\n",
       "      <td>2627.229980</td>\n",
       "      <td>2648.360107</td>\n",
       "      <td>2648.360107</td>\n",
       "      <td>1.670530e+09</td>\n",
       "      <td>1277.30</td>\n",
       "      <td>1277.03</td>\n",
       "      <td>1278.73</td>\n",
       "      <td>1268.10</td>\n",
       "      <td>2.08</td>\n",
       "      <td>16068.824</td>\n",
       "      <td>2.00</td>\n",
       "    </tr>\n",
       "    <tr>\n",
       "      <th>4</th>\n",
       "      <td>1325721600000000000</td>\n",
       "      <td>123.2452</td>\n",
       "      <td>123.3919</td>\n",
       "      <td>122.1048</td>\n",
       "      <td>123.1452</td>\n",
       "      <td>4463100.0</td>\n",
       "      <td>2642.570068</td>\n",
       "      <td>2673.560059</td>\n",
       "      <td>2631.229980</td>\n",
       "      <td>2669.860107</td>\n",
       "      <td>2669.860107</td>\n",
       "      <td>1.836410e+09</td>\n",
       "      <td>1281.06</td>\n",
       "      <td>1277.30</td>\n",
       "      <td>1283.05</td>\n",
       "      <td>1265.26</td>\n",
       "      <td>2.12</td>\n",
       "      <td>16068.824</td>\n",
       "      <td>2.02</td>\n",
       "    </tr>\n",
       "    <tr>\n",
       "      <th>5</th>\n",
       "      <td>1325808000000000000</td>\n",
       "      <td>122.9651</td>\n",
       "      <td>123.0251</td>\n",
       "      <td>121.5780</td>\n",
       "      <td>121.7314</td>\n",
       "      <td>4897100.0</td>\n",
       "      <td>2671.169922</td>\n",
       "      <td>2682.120117</td>\n",
       "      <td>2658.830078</td>\n",
       "      <td>2674.219971</td>\n",
       "      <td>2674.219971</td>\n",
       "      <td>1.683090e+09</td>\n",
       "      <td>1277.81</td>\n",
       "      <td>1280.93</td>\n",
       "      <td>1281.84</td>\n",
       "      <td>1273.34</td>\n",
       "      <td>2.09</td>\n",
       "      <td>16068.824</td>\n",
       "      <td>1.98</td>\n",
       "    </tr>\n",
       "    <tr>\n",
       "      <th>8</th>\n",
       "      <td>1326067200000000000</td>\n",
       "      <td>121.5047</td>\n",
       "      <td>121.5513</td>\n",
       "      <td>120.2176</td>\n",
       "      <td>121.0979</td>\n",
       "      <td>5201200.0</td>\n",
       "      <td>2682.979980</td>\n",
       "      <td>2683.780029</td>\n",
       "      <td>2662.959961</td>\n",
       "      <td>2676.560059</td>\n",
       "      <td>2676.560059</td>\n",
       "      <td>1.768080e+09</td>\n",
       "      <td>1280.70</td>\n",
       "      <td>1277.83</td>\n",
       "      <td>1281.99</td>\n",
       "      <td>1274.55</td>\n",
       "      <td>2.11</td>\n",
       "      <td>16068.824</td>\n",
       "      <td>1.98</td>\n",
       "    </tr>\n",
       "  </tbody>\n",
       "</table>\n",
       "</div>"
      ],
      "text/plain": [
       "                  date  IBM_open  IBM_high   IBM_low  IBM_close  IBM_volume  \\\n",
       "2  1325548800000000000  124.5256  125.8460  124.0388   124.2388   5646000.0   \n",
       "3  1325635200000000000  123.7520  124.2589  123.3319   123.7320   4346700.0   \n",
       "4  1325721600000000000  123.2452  123.3919  122.1048   123.1452   4463100.0   \n",
       "5  1325808000000000000  122.9651  123.0251  121.5780   121.7314   4897100.0   \n",
       "8  1326067200000000000  121.5047  121.5513  120.2176   121.0979   5201200.0   \n",
       "\n",
       "   NASDAQ_open  NASDAQ_high   NASDAQ_low  NASDAQ_close  NASDAQ_Adj_close  \\\n",
       "2  2657.389893  2665.899902  2641.979980   2648.719971       2648.719971   \n",
       "3  2639.899902  2653.179932  2627.229980   2648.360107       2648.360107   \n",
       "4  2642.570068  2673.560059  2631.229980   2669.860107       2669.860107   \n",
       "5  2671.169922  2682.120117  2658.830078   2674.219971       2674.219971   \n",
       "8  2682.979980  2683.780029  2662.959961   2676.560059       2676.560059   \n",
       "\n",
       "   NASDAQ_volume  SP_close  SP_Open  SP_High   SP_low  interest_rate  \\\n",
       "2   1.636850e+09   1277.06  1258.86  1284.62  1258.86           2.01   \n",
       "3   1.670530e+09   1277.30  1277.03  1278.73  1268.10           2.08   \n",
       "4   1.836410e+09   1281.06  1277.30  1283.05  1265.26           2.12   \n",
       "5   1.683090e+09   1277.81  1280.93  1281.84  1273.34           2.09   \n",
       "8   1.768080e+09   1280.70  1277.83  1281.99  1274.55           2.11   \n",
       "\n",
       "         gdp  yield_rate  \n",
       "2  16068.824        1.97  \n",
       "3  16068.824        2.00  \n",
       "4  16068.824        2.02  \n",
       "5  16068.824        1.98  \n",
       "8  16068.824        1.98  "
      ]
     },
     "execution_count": 56,
     "metadata": {},
     "output_type": "execute_result"
    }
   ],
   "source": [
    "\n",
    "\n",
    "\n",
    "\n",
    "data.head()"
   ]
  },
  {
   "cell_type": "markdown",
   "metadata": {
    "id": "RU3N6_fHTHpk"
   },
   "source": [
    "Now, let us split the data into X and y. Since we are trying to predict the price of the Closing price of the IBM stock, we will make our split accordingly."
   ]
  },
  {
   "cell_type": "code",
   "execution_count": 57,
   "metadata": {
    "id": "hjwIJQ3ZTKtb"
   },
   "outputs": [],
   "source": [
    "X = data.drop(columns =['IBM_close'])\n",
    "y = data.IBM_close.values"
   ]
  },
  {
   "cell_type": "markdown",
   "metadata": {
    "id": "iatQ8xiZVSMs"
   },
   "source": [
    "Using sklearn, we will create a train_test_split."
   ]
  },
  {
   "cell_type": "code",
   "execution_count": 58,
   "metadata": {
    "id": "Zd6eIKdKVRgc"
   },
   "outputs": [],
   "source": [
    "X_train, X_test, y_train, y_test = train_test_split(X, y, test_size=0.3, random_state=1)"
   ]
  },
  {
   "cell_type": "code",
   "execution_count": 59,
   "metadata": {
    "id": "DyMf_wcYSX7N"
   },
   "outputs": [
    {
     "data": {
      "text/html": [
       "<div>\n",
       "<style scoped>\n",
       "    .dataframe tbody tr th:only-of-type {\n",
       "        vertical-align: middle;\n",
       "    }\n",
       "\n",
       "    .dataframe tbody tr th {\n",
       "        vertical-align: top;\n",
       "    }\n",
       "\n",
       "    .dataframe thead th {\n",
       "        text-align: right;\n",
       "    }\n",
       "</style>\n",
       "<table border=\"1\" class=\"dataframe\">\n",
       "  <thead>\n",
       "    <tr style=\"text-align: right;\">\n",
       "      <th></th>\n",
       "      <th>date</th>\n",
       "      <th>IBM_open</th>\n",
       "      <th>IBM_high</th>\n",
       "      <th>IBM_low</th>\n",
       "      <th>IBM_volume</th>\n",
       "      <th>NASDAQ_open</th>\n",
       "      <th>NASDAQ_high</th>\n",
       "      <th>NASDAQ_low</th>\n",
       "      <th>NASDAQ_close</th>\n",
       "      <th>NASDAQ_Adj_close</th>\n",
       "      <th>NASDAQ_volume</th>\n",
       "      <th>SP_close</th>\n",
       "      <th>SP_Open</th>\n",
       "      <th>SP_High</th>\n",
       "      <th>SP_low</th>\n",
       "      <th>interest_rate</th>\n",
       "      <th>gdp</th>\n",
       "      <th>yield_rate</th>\n",
       "    </tr>\n",
       "  </thead>\n",
       "  <tbody>\n",
       "    <tr>\n",
       "      <th>967</th>\n",
       "      <td>2014-08-24</td>\n",
       "      <td>134.5888</td>\n",
       "      <td>134.8842</td>\n",
       "      <td>134.1106</td>\n",
       "      <td>1723600.0</td>\n",
       "      <td>4563.720215</td>\n",
       "      <td>4571.140137</td>\n",
       "      <td>4547.779785</td>\n",
       "      <td>4557.350098</td>\n",
       "      <td>4557.350098</td>\n",
       "      <td>1.384620e+09</td>\n",
       "      <td>1997.92</td>\n",
       "      <td>1991.74</td>\n",
       "      <td>2001.95</td>\n",
       "      <td>1991.74</td>\n",
       "      <td>2.15</td>\n",
       "      <td>17743.227</td>\n",
       "      <td>2.39</td>\n",
       "    </tr>\n",
       "    <tr>\n",
       "      <th>886</th>\n",
       "      <td>2014-06-04</td>\n",
       "      <td>129.0926</td>\n",
       "      <td>130.0923</td>\n",
       "      <td>128.5753</td>\n",
       "      <td>2852200.0</td>\n",
       "      <td>4259.120117</td>\n",
       "      <td>4299.500000</td>\n",
       "      <td>4241.680176</td>\n",
       "      <td>4296.229980</td>\n",
       "      <td>4296.229980</td>\n",
       "      <td>1.926750e+09</td>\n",
       "      <td>1940.46</td>\n",
       "      <td>1928.52</td>\n",
       "      <td>1941.74</td>\n",
       "      <td>1922.93</td>\n",
       "      <td>2.18</td>\n",
       "      <td>17462.703</td>\n",
       "      <td>2.59</td>\n",
       "    </tr>\n",
       "    <tr>\n",
       "      <th>445</th>\n",
       "      <td>2013-03-20</td>\n",
       "      <td>145.0327</td>\n",
       "      <td>145.0599</td>\n",
       "      <td>143.0917</td>\n",
       "      <td>5830400.0</td>\n",
       "      <td>3228.169922</td>\n",
       "      <td>3237.570068</td>\n",
       "      <td>3215.689941</td>\n",
       "      <td>3222.600098</td>\n",
       "      <td>3222.600098</td>\n",
       "      <td>1.692260e+09</td>\n",
       "      <td>1545.80</td>\n",
       "      <td>1558.71</td>\n",
       "      <td>1558.71</td>\n",
       "      <td>1543.55</td>\n",
       "      <td>2.52</td>\n",
       "      <td>16629.050</td>\n",
       "      <td>1.95</td>\n",
       "    </tr>\n",
       "    <tr>\n",
       "      <th>3203</th>\n",
       "      <td>2020-10-07</td>\n",
       "      <td>117.2765</td>\n",
       "      <td>121.4349</td>\n",
       "      <td>116.2997</td>\n",
       "      <td>25269266.0</td>\n",
       "      <td>11443.349609</td>\n",
       "      <td>11448.230469</td>\n",
       "      <td>11384.330078</td>\n",
       "      <td>11420.980469</td>\n",
       "      <td>11420.980469</td>\n",
       "      <td>3.486530e+09</td>\n",
       "      <td>3446.83</td>\n",
       "      <td>3434.28</td>\n",
       "      <td>3447.28</td>\n",
       "      <td>3428.15</td>\n",
       "      <td>1.72</td>\n",
       "      <td>21477.597</td>\n",
       "      <td>0.78</td>\n",
       "    </tr>\n",
       "    <tr>\n",
       "      <th>856</th>\n",
       "      <td>2014-05-05</td>\n",
       "      <td>132.7047</td>\n",
       "      <td>132.7186</td>\n",
       "      <td>131.5370</td>\n",
       "      <td>3188700.0</td>\n",
       "      <td>4128.220215</td>\n",
       "      <td>4132.459961</td>\n",
       "      <td>4080.760010</td>\n",
       "      <td>4080.760010</td>\n",
       "      <td>4080.760010</td>\n",
       "      <td>1.850610e+09</td>\n",
       "      <td>1867.72</td>\n",
       "      <td>1883.69</td>\n",
       "      <td>1883.69</td>\n",
       "      <td>1867.72</td>\n",
       "      <td>2.16</td>\n",
       "      <td>17462.703</td>\n",
       "      <td>2.61</td>\n",
       "    </tr>\n",
       "    <tr>\n",
       "      <th>...</th>\n",
       "      <td>...</td>\n",
       "      <td>...</td>\n",
       "      <td>...</td>\n",
       "      <td>...</td>\n",
       "      <td>...</td>\n",
       "      <td>...</td>\n",
       "      <td>...</td>\n",
       "      <td>...</td>\n",
       "      <td>...</td>\n",
       "      <td>...</td>\n",
       "      <td>...</td>\n",
       "      <td>...</td>\n",
       "      <td>...</td>\n",
       "      <td>...</td>\n",
       "      <td>...</td>\n",
       "      <td>...</td>\n",
       "      <td>...</td>\n",
       "      <td>...</td>\n",
       "    </tr>\n",
       "    <tr>\n",
       "      <th>2802</th>\n",
       "      <td>2019-09-02</td>\n",
       "      <td>115.1289</td>\n",
       "      <td>115.1727</td>\n",
       "      <td>113.8313</td>\n",
       "      <td>2827919.0</td>\n",
       "      <td>7906.439941</td>\n",
       "      <td>7940.370117</td>\n",
       "      <td>7847.319824</td>\n",
       "      <td>7874.160156</td>\n",
       "      <td>7874.160156</td>\n",
       "      <td>1.936210e+09</td>\n",
       "      <td>2906.27</td>\n",
       "      <td>2909.01</td>\n",
       "      <td>2914.39</td>\n",
       "      <td>2891.85</td>\n",
       "      <td>1.50</td>\n",
       "      <td>21505.012</td>\n",
       "      <td>1.47</td>\n",
       "    </tr>\n",
       "    <tr>\n",
       "      <th>1719</th>\n",
       "      <td>2016-09-14</td>\n",
       "      <td>116.0591</td>\n",
       "      <td>117.5860</td>\n",
       "      <td>115.2392</td>\n",
       "      <td>3662573.0</td>\n",
       "      <td>5178.100098</td>\n",
       "      <td>5254.779785</td>\n",
       "      <td>5176.250000</td>\n",
       "      <td>5249.689941</td>\n",
       "      <td>5249.689941</td>\n",
       "      <td>1.950940e+09</td>\n",
       "      <td>2147.26</td>\n",
       "      <td>2125.36</td>\n",
       "      <td>2151.31</td>\n",
       "      <td>2122.36</td>\n",
       "      <td>1.49</td>\n",
       "      <td>18775.459</td>\n",
       "      <td>1.71</td>\n",
       "    </tr>\n",
       "    <tr>\n",
       "      <th>2889</th>\n",
       "      <td>2019-11-28</td>\n",
       "      <td>115.4037</td>\n",
       "      <td>116.1984</td>\n",
       "      <td>114.9113</td>\n",
       "      <td>1825255.0</td>\n",
       "      <td>8682.009766</td>\n",
       "      <td>8697.320313</td>\n",
       "      <td>8664.040039</td>\n",
       "      <td>8665.469727</td>\n",
       "      <td>8665.469727</td>\n",
       "      <td>1.099090e+09</td>\n",
       "      <td>3140.98</td>\n",
       "      <td>3147.18</td>\n",
       "      <td>3150.30</td>\n",
       "      <td>3139.34</td>\n",
       "      <td>1.61</td>\n",
       "      <td>21694.458</td>\n",
       "      <td>1.78</td>\n",
       "    </tr>\n",
       "    <tr>\n",
       "      <th>2788</th>\n",
       "      <td>2019-08-19</td>\n",
       "      <td>115.4619</td>\n",
       "      <td>115.4960</td>\n",
       "      <td>113.3872</td>\n",
       "      <td>3018648.0</td>\n",
       "      <td>7989.359863</td>\n",
       "      <td>8010.580078</td>\n",
       "      <td>7948.089844</td>\n",
       "      <td>7948.560059</td>\n",
       "      <td>7948.560059</td>\n",
       "      <td>1.747580e+09</td>\n",
       "      <td>2900.51</td>\n",
       "      <td>2919.01</td>\n",
       "      <td>2923.63</td>\n",
       "      <td>2899.60</td>\n",
       "      <td>1.53</td>\n",
       "      <td>21505.012</td>\n",
       "      <td>1.55</td>\n",
       "    </tr>\n",
       "    <tr>\n",
       "      <th>1662</th>\n",
       "      <td>2016-07-19</td>\n",
       "      <td>119.2932</td>\n",
       "      <td>120.5908</td>\n",
       "      <td>119.0173</td>\n",
       "      <td>4373609.0</td>\n",
       "      <td>5061.600098</td>\n",
       "      <td>5098.250000</td>\n",
       "      <td>5053.919922</td>\n",
       "      <td>5089.930176</td>\n",
       "      <td>5089.930176</td>\n",
       "      <td>1.877330e+09</td>\n",
       "      <td>2173.02</td>\n",
       "      <td>2166.10</td>\n",
       "      <td>2175.63</td>\n",
       "      <td>2164.89</td>\n",
       "      <td>1.46</td>\n",
       "      <td>18775.459</td>\n",
       "      <td>1.59</td>\n",
       "    </tr>\n",
       "  </tbody>\n",
       "</table>\n",
       "<p>746 rows × 18 columns</p>\n",
       "</div>"
      ],
      "text/plain": [
       "           date  IBM_open  IBM_high   IBM_low  IBM_volume   NASDAQ_open  \\\n",
       "967  2014-08-24  134.5888  134.8842  134.1106   1723600.0   4563.720215   \n",
       "886  2014-06-04  129.0926  130.0923  128.5753   2852200.0   4259.120117   \n",
       "445  2013-03-20  145.0327  145.0599  143.0917   5830400.0   3228.169922   \n",
       "3203 2020-10-07  117.2765  121.4349  116.2997  25269266.0  11443.349609   \n",
       "856  2014-05-05  132.7047  132.7186  131.5370   3188700.0   4128.220215   \n",
       "...         ...       ...       ...       ...         ...           ...   \n",
       "2802 2019-09-02  115.1289  115.1727  113.8313   2827919.0   7906.439941   \n",
       "1719 2016-09-14  116.0591  117.5860  115.2392   3662573.0   5178.100098   \n",
       "2889 2019-11-28  115.4037  116.1984  114.9113   1825255.0   8682.009766   \n",
       "2788 2019-08-19  115.4619  115.4960  113.3872   3018648.0   7989.359863   \n",
       "1662 2016-07-19  119.2932  120.5908  119.0173   4373609.0   5061.600098   \n",
       "\n",
       "       NASDAQ_high    NASDAQ_low  NASDAQ_close  NASDAQ_Adj_close  \\\n",
       "967    4571.140137   4547.779785   4557.350098       4557.350098   \n",
       "886    4299.500000   4241.680176   4296.229980       4296.229980   \n",
       "445    3237.570068   3215.689941   3222.600098       3222.600098   \n",
       "3203  11448.230469  11384.330078  11420.980469      11420.980469   \n",
       "856    4132.459961   4080.760010   4080.760010       4080.760010   \n",
       "...            ...           ...           ...               ...   \n",
       "2802   7940.370117   7847.319824   7874.160156       7874.160156   \n",
       "1719   5254.779785   5176.250000   5249.689941       5249.689941   \n",
       "2889   8697.320313   8664.040039   8665.469727       8665.469727   \n",
       "2788   8010.580078   7948.089844   7948.560059       7948.560059   \n",
       "1662   5098.250000   5053.919922   5089.930176       5089.930176   \n",
       "\n",
       "      NASDAQ_volume  SP_close  SP_Open  SP_High   SP_low  interest_rate  \\\n",
       "967    1.384620e+09   1997.92  1991.74  2001.95  1991.74           2.15   \n",
       "886    1.926750e+09   1940.46  1928.52  1941.74  1922.93           2.18   \n",
       "445    1.692260e+09   1545.80  1558.71  1558.71  1543.55           2.52   \n",
       "3203   3.486530e+09   3446.83  3434.28  3447.28  3428.15           1.72   \n",
       "856    1.850610e+09   1867.72  1883.69  1883.69  1867.72           2.16   \n",
       "...             ...       ...      ...      ...      ...            ...   \n",
       "2802   1.936210e+09   2906.27  2909.01  2914.39  2891.85           1.50   \n",
       "1719   1.950940e+09   2147.26  2125.36  2151.31  2122.36           1.49   \n",
       "2889   1.099090e+09   3140.98  3147.18  3150.30  3139.34           1.61   \n",
       "2788   1.747580e+09   2900.51  2919.01  2923.63  2899.60           1.53   \n",
       "1662   1.877330e+09   2173.02  2166.10  2175.63  2164.89           1.46   \n",
       "\n",
       "            gdp  yield_rate  \n",
       "967   17743.227        2.39  \n",
       "886   17462.703        2.59  \n",
       "445   16629.050        1.95  \n",
       "3203  21477.597        0.78  \n",
       "856   17462.703        2.61  \n",
       "...         ...         ...  \n",
       "2802  21505.012        1.47  \n",
       "1719  18775.459        1.71  \n",
       "2889  21694.458        1.78  \n",
       "2788  21505.012        1.55  \n",
       "1662  18775.459        1.59  \n",
       "\n",
       "[746 rows x 18 columns]"
      ]
     },
     "metadata": {},
     "output_type": "display_data"
    }
   ],
   "source": [
    "#this converts the numeric date back to datetime (just to make the graph prettier)\n",
    "#this is for actual date\n",
    "for i in range(len(data)):\n",
    "  your_timestamp = data.iloc[i,0]\n",
    "  date = datetime.datetime.fromtimestamp(your_timestamp/1e9)\n",
    "  data.iloc[i,0] = date.date()\n",
    "data.date = pd.to_datetime(data['date'])\n",
    "\n",
    "#this is for the X_test\n",
    "for i in range(len(X_test)):\n",
    "  your_timestamp = X_test.iloc[i,0]\n",
    "  date = datetime.datetime.fromtimestamp(your_timestamp/1e9)\n",
    "  X_test.iloc[i,0] = date.date()\n",
    "X_test.date = pd.to_datetime(X_test['date'])\n",
    "display(X_test)"
   ]
  },
  {
   "cell_type": "markdown",
   "metadata": {
    "id": "qYoc6NjM9p4m"
   },
   "source": [
    "# RF\n",
    "below we will train the random forest model below."
   ]
  },
  {
   "cell_type": "markdown",
   "metadata": {
    "id": "801Ox28UAF1S"
   },
   "source": [
    "We start by splitting the data using Train_test_split"
   ]
  },
  {
   "cell_type": "code",
   "execution_count": 70,
   "metadata": {
    "colab": {
     "base_uri": "https://localhost:8080/",
     "height": 166
    },
    "executionInfo": {
     "elapsed": 260,
     "status": "error",
     "timestamp": 1637692341676,
     "user": {
      "displayName": "Andy Chang",
      "photoUrl": "https://lh3.googleusercontent.com/a/default-user=s64",
      "userId": "01519398712879810205"
     },
     "user_tz": 300
    },
    "id": "VkikTsfW9pnp",
    "outputId": "37d1db35-5cd6-4f3f-8360-d9f090b11196"
   },
   "outputs": [],
   "source": [
    "#construct X,y\n",
    "# X = df.drop(columns =['IBM_close'])\n",
    "# y = df.IBM_close.values\n",
    "\n",
    "\n",
    "#split the data into train test \n",
    "X_train, X_test, y_train, y_test = train_test_split(X, y, test_size=0.3, random_state=0)\n",
    "\n",
    "# #Feature scaling for random forest \n",
    "# from sklearn.preprocessing import StandardScaler\n",
    "XX_test = X_test\n",
    "# sc = StandardScaler()\n",
    "# X_train = sc.fit_transform(X_train)\n",
    "# display(X_train)\n",
    "# X_test = sc.transform(X_test)"
   ]
  },
  {
   "cell_type": "markdown",
   "metadata": {
    "id": "iaKHepXIELZr"
   },
   "source": [
    "we will trian the Random Forrest here "
   ]
  },
  {
   "cell_type": "code",
   "execution_count": 71,
   "metadata": {},
   "outputs": [],
   "source": [
    "#import a few things here \n",
    "from sklearn.datasets import make_regression\n",
    "from sklearn.model_selection import cross_val_score\n",
    "from sklearn.model_selection import RepeatedKFold\n",
    "from sklearn.ensemble import RandomForestRegressor"
   ]
  },
  {
   "cell_type": "code",
   "execution_count": 62,
   "metadata": {
    "id": "sQaFeTypELMu"
   },
   "outputs": [
    {
     "name": "stdout",
     "output_type": "stream",
     "text": [
      "Negative MSE: -3.720 (0.400)\n"
     ]
    }
   ],
   "source": [
    "# Create RF\n",
    "# Here we use the default MSE for our criterion\n",
    "rf = RandomForestRegressor(n_estimators=10000, max_depth=3, n_jobs=-1, random_state=1,max_features=6,min_samples_leaf=2)\n",
    "\n",
    "# Now we'll train/test\n",
    "rf.fit(X_train,y_train)\n",
    "ypr = rf.predict(X_test)\n",
    "\n",
    "\n",
    "cv = RepeatedKFold(n_splits=5, n_repeats=5, random_state=1)\n",
    "n_scores = cross_val_score(rf, X, y,scoring='neg_mean_squared_error' ,cv=cv, n_jobs=-1, error_score='raise')\n",
    "# report performance\n",
    "print('Negative MSE: %.3f (%.3f)' % (np.mean(n_scores), np.std(n_scores)))\n",
    "\n",
    "\n",
    "\n",
    "\n"
   ]
  },
  {
   "cell_type": "code",
   "execution_count": 72,
   "metadata": {},
   "outputs": [
    {
     "data": {
      "image/png": "[encoded data removed]",
      "text/plain": [
       "<Figure size 432x288 with 1 Axes>"
      ]
     },
     "metadata": {
      "needs_background": "light"
     },
     "output_type": "display_data"
    },
    {
     "data": {
      "text/plain": [
       "CV     -0.725725\n",
       "XAX    14.000000\n",
       "Name: 12, dtype: float64"
      ]
     },
     "metadata": {},
     "output_type": "display_data"
    }
   ],
   "source": [
    "# Create and fit trees from max_depth 2 to max_depth 30. Use 5-fold CV for each.\n",
    "CV_score = []\n",
    "for i in range(2,30):\n",
    "    tree = RandomForestRegressor(n_estimators=10, max_depth=i, n_jobs=-1, random_state=1,max_features=5,min_samples_leaf=2)\n",
    "    tree.fit(X_train,y_train)\n",
    "    ypr = tree.predict(X_test)\n",
    "    cvsc = cross_val_score(tree, X_train, y_train,scoring='neg_mean_squared_error', cv=5)\n",
    "    CV_score.append(cvsc.mean())\n",
    "\n",
    "# Plot the mean CV score vs. maximum depth \n",
    "\n",
    "x_axis = np.arange(2,30,1)\n",
    "plt.scatter(x_axis,CV_score)\n",
    "plt.plot(x_axis,CV_score)\n",
    "plt.show()    \n",
    "\n",
    "# Report the optimal max_depth\n",
    "\n",
    "maxCV = pd.DataFrame(data={'CV':CV_score, 'XAX' :x_axis})\n",
    "display(maxCV.iloc[maxCV['CV'].idxmax()])"
   ]
  },
  {
   "cell_type": "code",
   "execution_count": 73,
   "metadata": {},
   "outputs": [
    {
     "data": {
      "image/png": "[encoded data removed]",
      "text/plain": [
       "<Figure size 432x288 with 1 Axes>"
      ]
     },
     "metadata": {
      "needs_background": "light"
     },
     "output_type": "display_data"
    },
    {
     "data": {
      "text/plain": [
       "CV    -0.61547\n",
       "XAX    5.00000\n",
       "Name: 4, dtype: float64"
      ]
     },
     "metadata": {},
     "output_type": "display_data"
    }
   ],
   "source": [
    "    \n",
    "# Create and fit trees from n_est 10 to n_est 100000. Use 5-fold CV for each.\n",
    "CV_score = []\n",
    "n_est = [10,100,1000,5000,6000,10000]\n",
    "for est in n_est:\n",
    "    tree = RandomForestRegressor(n_estimators=est, max_depth=14, n_jobs=-1, random_state=1,max_features=5,min_samples_leaf=2)\n",
    "    tree.fit(X_train,y_train)\n",
    "    ypr = tree.predict(X_test)\n",
    "    cvsc = cross_val_score(tree, X_train, y_train,scoring='neg_mean_squared_error', cv=5)\n",
    "    CV_score.append(cvsc.mean())\n",
    "    \n",
    "# Plot the mean CV score vs. n_est\n",
    "\n",
    "x_axis = np.arange(1,7,1)\n",
    "plt.scatter(x_axis,CV_score)\n",
    "plt.plot(x_axis,CV_score)\n",
    "plt.show()\n",
    "\n",
    "\n",
    "# Report the optimal estimator\n",
    "\n",
    "maxCV = pd.DataFrame(data={'CV':CV_score, 'XAX' :x_axis})\n",
    "display(maxCV.iloc[maxCV['CV'].idxmax()])"
   ]
  },
  {
   "cell_type": "code",
   "execution_count": 74,
   "metadata": {},
   "outputs": [
    {
     "data": {
      "image/png": "[encoded data removed]",
      "text/plain": [
       "<Figure size 432x288 with 1 Axes>"
      ]
     },
     "metadata": {
      "needs_background": "light"
     },
     "output_type": "display_data"
    },
    {
     "data": {
      "text/plain": [
       "CV     -0.525691\n",
       "XAX    15.000000\n",
       "Name: 13, dtype: float64"
      ]
     },
     "metadata": {},
     "output_type": "display_data"
    }
   ],
   "source": [
    "# Create and fit trees from max_features 2 to max_features 18. Use 5-fold CV for each.\n",
    "CV_score = []\n",
    "for i in range(2,18):\n",
    "    tree = RandomForestRegressor(n_estimators=10, max_depth=14, n_jobs=-1, random_state=1,max_features=i,min_samples_leaf=2)\n",
    "    tree.fit(X_train,y_train)\n",
    "    ypr = tree.predict(X_test)\n",
    "    cvsc = cross_val_score(tree, X_train, y_train,scoring='neg_mean_squared_error', cv=5)\n",
    "    CV_score.append(cvsc.mean())\n",
    "\n",
    "# Plot the mean CV score vs. maximum depth \n",
    "\n",
    "x_axis = np.arange(2,18,1)\n",
    "plt.scatter(x_axis,CV_score)\n",
    "plt.plot(x_axis,CV_score)\n",
    "plt.show()    \n",
    "\n",
    "# Report the optimal max_feature\n",
    "\n",
    "maxCV = pd.DataFrame(data={'CV':CV_score, 'XAX' :x_axis})\n",
    "display(maxCV.iloc[maxCV['CV'].idxmax()])"
   ]
  },
  {
   "cell_type": "code",
   "execution_count": 75,
   "metadata": {},
   "outputs": [
    {
     "data": {
      "image/png": "[encoded data removed]",
      "text/plain": [
       "<Figure size 432x288 with 1 Axes>"
      ]
     },
     "metadata": {
      "needs_background": "light"
     },
     "output_type": "display_data"
    },
    {
     "data": {
      "text/plain": [
       "CV    -0.525691\n",
       "XAX    2.000000\n",
       "Name: 1, dtype: float64"
      ]
     },
     "metadata": {},
     "output_type": "display_data"
    }
   ],
   "source": [
    "# Create and fit trees from min_samples_leaf 1 to 5. Use 5-fold CV for each.\n",
    "CV_score = []\n",
    "for i in range(1,5):\n",
    "    tree = RandomForestRegressor(n_estimators=10, max_depth=14, n_jobs=-1, random_state=1,max_features=15,min_samples_leaf=i)\n",
    "    tree.fit(X_train,y_train)\n",
    "    ypr = tree.predict(X_test)\n",
    "    cvsc = cross_val_score(tree, X_train, y_train,scoring='neg_mean_squared_error', cv=5)\n",
    "    CV_score.append(cvsc.mean())\n",
    "\n",
    "# Plot the mean CV score vs. maximum depth \n",
    "\n",
    "x_axis = np.arange(1,5,1)\n",
    "plt.scatter(x_axis,CV_score)\n",
    "plt.plot(x_axis,CV_score)\n",
    "plt.show()    \n",
    "\n",
    "# Report the optimal max_depth\n",
    "\n",
    "maxCV = pd.DataFrame(data={'CV':CV_score, 'XAX' :x_axis})\n",
    "display(maxCV.iloc[maxCV['CV'].idxmax()])"
   ]
  },
  {
   "cell_type": "code",
   "execution_count": 76,
   "metadata": {},
   "outputs": [
    {
     "name": "stdout",
     "output_type": "stream",
     "text": [
      "[118.68474791 113.42019246 129.35099745 133.42319366 127.67561157\n",
      " 117.96220195 135.06381543 113.10129449 108.54301857 114.76689123\n",
      " 113.68871108 102.57969392 119.51440958 116.4895428  138.76935493\n",
      " 118.68076614 115.70720813 115.66582684 137.8260627  110.03075151\n",
      " 113.68512549 119.97912217  89.68308901 113.68094075 134.46881282\n",
      " 115.33013058 128.88020475 121.74871355 114.0833777  120.65813621\n",
      " 116.83266684 101.18763265 133.18148249 109.99629683  98.71089714\n",
      " 136.2921437   94.7403229  130.41742571 118.32375071 119.52116191\n",
      " 127.19914476 129.59004498 114.83190412 114.61668131 104.7469892\n",
      "  99.72208127 113.24682503  88.64813306 108.46450903 130.77421396\n",
      " 130.21717577 131.11951951 131.11037118 122.25557459 118.94265181\n",
      " 115.07793068 125.8513767  129.4641717  111.24650054 123.94269774\n",
      " 127.33289377 105.63605063 130.85290352 123.50276752 133.68247573\n",
      " 114.84734391 124.45585992 115.2745083  126.65997187 115.95454739\n",
      " 109.92447444 113.36351745  96.70271363 123.47851776 114.23640941\n",
      " 112.43848921 108.56616508 119.1115197  123.62069869 142.35747096\n",
      " 131.6071326  112.94567979 128.74389011 102.57796607 134.29022437\n",
      " 106.04501212 128.74406523 111.94223595 130.76329021 122.1209026\n",
      " 120.96538642 118.11584328 114.94924055 112.58612435 138.6573849\n",
      " 110.3969554  114.80148138 115.88212451 116.81031987 137.11442917\n",
      " 118.96115797 129.03336813 107.32960385 134.78766744 137.080715\n",
      " 114.39748044 113.69134736 101.82007801 114.8574597  128.44823852\n",
      " 124.47120344 105.93017071  99.65289359 119.88576072 104.92922742\n",
      " 105.98886789 124.21793095  96.61045465 127.95271667 120.70958807\n",
      " 143.67472226 102.96202357 110.82257875 102.93178612 117.16173114\n",
      " 115.94322849 115.54138086 103.96384696 134.42224333 127.88450096\n",
      " 129.26392991 109.77044995 118.15945071 112.31217402 117.90311907\n",
      " 136.570173   133.39354363 144.49088773 120.0925348  134.07431925\n",
      " 135.9251326  110.86221894 104.12966769 124.19567333 114.88273225\n",
      " 112.50866296 106.24153423  87.48459364 135.79731984 119.0976221\n",
      " 121.99310394 132.63107439 113.34277303 112.79981077 136.05820192\n",
      " 131.71373869 115.46057559 134.65641889 115.99869957 115.52790074\n",
      " 123.9232932  133.23046442 133.304593   139.57558207 117.24040675\n",
      " 114.16699704 112.9422795  136.32924256 126.32835112 109.30346098\n",
      " 121.37597633 111.11151528 119.2471846  118.1096459  133.02425779\n",
      " 128.31185467 115.17586272 138.77134924 123.52651984 115.54138086\n",
      " 127.54992667 110.99902084 131.6918147  129.10672639 114.70833113\n",
      " 124.12770488 116.83901547 113.71627878 115.96976117 113.51695189\n",
      " 112.98320707 112.21136571 120.72338055  93.69953855 141.50373685\n",
      " 106.57435899 122.28072921 116.2144991  139.96216981 123.12739264\n",
      " 110.33977112 120.38803128 102.94081646 116.60521291 133.9863729\n",
      " 133.42636618 137.28642518 111.88263774 117.64080846 110.10034083\n",
      " 115.49795738 101.466222   117.1552358  113.01318911 119.28147828\n",
      " 107.972619   120.19468476 114.39905225 100.89345772 134.98169355\n",
      " 103.59453812 108.02835558 114.66239938 109.4687777  130.59391594\n",
      " 123.67443055 107.64281875 109.90327071 133.76068385 127.70284661\n",
      " 136.39959548 111.7748875  124.59592325 108.92984592 121.6745116\n",
      " 131.28985469 129.81618174 123.16193779 132.39616909 101.98009017\n",
      " 126.63737846 130.79499798 116.76310983 111.56551319 117.14540344\n",
      " 114.8920641  115.12583075 129.55386235 132.64826164 101.68336869\n",
      " 116.54511392 113.69067706  99.01039903 127.88994939 132.55251345\n",
      " 105.77817121 111.87467157 110.60478625 114.82326501 117.4701615\n",
      "  98.58419959 133.13823505 109.92826647 111.2984987  105.00007288\n",
      " 114.73883276 115.93599723 103.02831396 132.78835303 128.75359277\n",
      " 116.00237851 124.52489514 119.73299483 129.35127048 127.93051691\n",
      " 130.54547663 108.65445656 115.86597779 115.18483285 114.15640558\n",
      "  99.9366566  120.61974524 122.18877557 133.38085594 118.20364939\n",
      " 128.1937286  131.45360279 101.65419836 122.6276072  129.51007252\n",
      " 114.85629895 110.67586098 133.23593343 134.89985495 113.92733923\n",
      " 130.29336221 134.74887799 135.43886006 120.20772902 110.47388413\n",
      " 110.89968652 113.44411955 118.95584169 123.60873988 116.14848034\n",
      " 111.12929029 133.64766354 108.7846583  114.92186676 134.22441105\n",
      " 114.40024971 104.11198552 117.7597354  117.06663704  93.30006308\n",
      " 132.45244099 120.48621409 116.79656181 110.91105089 128.30719365\n",
      " 110.71509925 123.9262697  123.98666541 116.21709321 134.40216154\n",
      " 105.00007288 133.31395759 118.77041322 111.42613819 130.92575367\n",
      " 132.07726871 127.65190525  89.68308901 114.90598415 111.43778375\n",
      " 132.26354591 143.73276854 134.58275671 119.4129024  123.05594157\n",
      " 132.27364319 131.32064951 120.84312062 103.99948657 113.68784255\n",
      " 134.42556963 131.14451163 100.07198218 112.60732788 120.64372912\n",
      " 126.83626177 104.07249763 126.63535072 112.22095575 124.41597619\n",
      " 131.33042586 113.34839196 122.79806459 114.39142862 117.35089536\n",
      " 126.85232168 131.81878066 129.19671916 100.28939922 136.18937474\n",
      " 100.97789605 120.45244557 135.36527081 109.45523055 108.09003482\n",
      " 102.35520082  91.08666196 126.96842492 120.11910759 137.89992302\n",
      " 114.22514065 120.60799712 121.73792023 111.05131109 131.57688094\n",
      " 106.05168478 139.04385605 114.4700015  116.05629216 113.74566281\n",
      " 134.26157484 128.7350449  121.80026731 115.83196066 126.61026927\n",
      " 106.19538341 123.79809275 132.84156333 106.78608875 132.25732681\n",
      " 115.5453493   99.37567456 100.15853763 115.9972748  131.78008397\n",
      " 143.44795694 101.08061568 111.9701119  124.35241736 109.71288478\n",
      " 130.53703823 118.46740297 118.23209582 117.77302607  96.87114006\n",
      " 115.38942871 122.53124399 111.1383572  114.07570525 138.87842664\n",
      " 118.88711846 114.59012796 120.03945197 137.82570653  99.20824994\n",
      " 130.5389389  118.26775061 116.92729234 119.64406805 124.76095736\n",
      " 122.38327281 141.36511257 100.01264982 135.59944927 118.34844021\n",
      " 143.56224456 111.89145994 120.77720137 139.72338235 115.99352653\n",
      " 121.99164188 126.2313257  121.06239814 120.6147684  111.849887\n",
      " 115.94361218  91.18213746 119.97281763 113.37646348 123.34195833\n",
      " 133.64780699 108.37693408 135.92395469 144.75103145 126.38895719\n",
      " 128.66370329 120.36998099 121.23163247 118.49147739 111.7250075\n",
      " 118.39650601 116.06808238 110.7279322  109.0855644  110.98423475\n",
      " 113.4655012  118.995973   121.49411271 114.86586187 117.74823938\n",
      " 144.21179154 141.79121582 130.82151415 131.49464541 136.1122329\n",
      " 125.02724932 132.47419264 118.73169514 102.44433365 119.04748168\n",
      " 127.58559081 116.97718267 113.42220263 137.12925784 139.78200874\n",
      " 132.26635019 110.97173989 131.47158333 123.33063809 113.47513648\n",
      " 110.53753629 119.95082625 113.04475489 129.4732993   93.21202344\n",
      "  99.25707862 114.88048306 101.69247535 118.78967025 135.10620686\n",
      " 134.60151744 124.93120577  97.15740133 116.76107439 110.14557345\n",
      " 115.19285081 131.68166423 115.08939081 116.68091483 119.99002434\n",
      " 107.42013025 117.0031902  127.2846805  126.3982179  124.34837521\n",
      "  99.56072327 121.02671921 132.82103215 124.77807424 111.13895355\n",
      " 117.63479294 127.98666483 133.74247727 118.04637611 116.81011087\n",
      " 112.17258851 114.65773062  93.97646839 120.920771   118.93460041\n",
      " 118.27844381 104.18965725 144.75103145 106.56167422 125.52162929\n",
      " 120.29257702 134.58344243 118.18435306 129.2037701  120.6268934\n",
      " 112.64619371 101.56319757 115.21808909 126.84846977 104.13502511\n",
      " 135.48835598 130.04302529 112.94896941 120.45225996 119.54131924\n",
      " 116.92729442 117.30245238 134.41482141 111.253181   133.55302808\n",
      " 137.63812756 123.32173226 125.89551557 134.13494808 124.37766552\n",
      " 133.55909576  89.68308901 130.87453415 118.8727557  135.28099468\n",
      "  96.96779891 117.91194193  99.95555597 118.72938045 130.72386055\n",
      " 134.55859196 144.59879573 117.41632516 128.6876691  114.00146284\n",
      " 111.27896876 119.23938669 125.96466704 125.04376437 135.35877673\n",
      " 124.56712667 112.78732787 123.54275744 115.66166085 114.77226048\n",
      " 120.54318908 138.36406835 136.71084468 138.30113474 131.90837806\n",
      " 123.44826383 112.0888454  111.37900796 137.87642867 126.62757407\n",
      " 121.70169083 124.00038413 128.82871251 111.7054525  116.28919633\n",
      " 133.84081839 113.55998226 119.82332089 121.23272754 112.58380439\n",
      " 122.40013892 132.8048445  130.39399822 116.61976466 113.56488432\n",
      " 121.89101282 114.16532012 119.04777048 130.78980505 135.66085648\n",
      " 113.61795254 123.82291585 133.55819046 103.9237702  129.02093311\n",
      " 131.27719535 100.92667372 114.01340345 135.16435304 116.89994532\n",
      " 116.01083319 101.04086616 115.98390093 101.32922427 114.51408734\n",
      " 136.82705092 111.31638931 124.65608584 121.25103513 126.89804239\n",
      " 136.2250732  119.04144531 110.75780157 102.29538082 109.92447444\n",
      " 114.69459919 116.90065629 138.85898804 121.97202889 120.19403316\n",
      " 126.69663822 113.68180641 121.80106582 127.73806567 132.58854714\n",
      " 100.02998566 112.27514481 106.87046283 118.1875273  121.96995239\n",
      " 138.95190034 130.07915032 138.20011462 120.94544037 117.01209552\n",
      " 134.31274661 127.89924686 126.78116087 131.13452365 144.59879573\n",
      " 116.07864899 113.58593007 122.6976516  128.21021753 121.40101074\n",
      " 117.44111018 120.74915739 135.59062899 126.02991062 130.06457329\n",
      " 116.1865646   95.69153582 131.97204486 108.13794333 129.75882065\n",
      "  96.95642444 136.62698078 130.7998983  134.42397973 115.35448268\n",
      " 127.83981412 126.47342338 135.10825403 105.26477132 114.75535529\n",
      " 113.22964195 129.01161483 123.69014734  90.38817656 121.45066698\n",
      " 112.91102405 100.28939922 114.85133267 119.65583144  97.02465489\n",
      " 114.97661677 116.06034523 126.65161613 141.20511103 131.81176176\n",
      " 144.05207942 116.89327057 135.51199787 113.76664312 114.01639079\n",
      " 130.97355207 134.95146484 115.74065911 115.88465614 113.63103011\n",
      " 128.26113326 101.3470989  112.17236446 116.9552107  119.75394223\n",
      " 123.35865675 122.263043   121.75941951 116.11911216 119.61042176\n",
      " 134.49455043 111.70597538 134.34582229 114.81957015 132.07875679\n",
      " 117.79253684 109.29441964 131.17894998 114.86706472 115.87523195\n",
      " 119.96612946 121.90835243 110.7555261  116.61045811 132.61809558\n",
      " 114.8936941  112.52147051 118.29806449 120.1946383  108.03060163\n",
      " 112.80119129 125.89931166 121.65720917 126.57158824 120.6671712\n",
      " 137.85998475]\n"
     ]
    }
   ],
   "source": [
    "rf = RandomForestRegressor(n_estimators=6000, max_depth=14, n_jobs=-1, random_state=1,max_features=5,min_samples_leaf=2)\n",
    "#drop_train = X_train.drop(columns=['IBM_open'],inplace=True)\n",
    "# X_train = data[:int(len(data)*0.8)]\n",
    "# y_train = data.IBM_close[:int(len(data)*0.8)]\n",
    "# X_train.drop(columns=['IBM_close'],inplace=True)\n",
    "# X_test = data[int(len(data)*0.8):]\n",
    "# y_test = data.IBM_close[int(len(data)*0.8):]\n",
    "# X_test.drop(columns=['IBM_close'],inplace=True)\n",
    "# drop_train = X_train\n",
    "# display(drop_train)\n",
    "# drop_train.drop(columns=['IBM_high'],inplace=True)\n",
    "# drop_train.drop(columns=['IBM_open'],inplace=True)\n",
    "#display(drop_train.head())\n",
    "rf.fit(X_train, y_train)\n",
    "ypr_rf = rf.predict(X_test)\n",
    "\n",
    "# sum((ypr_rf-y_test)**2)/len(ypr_rf)\n",
    "\n",
    "\n",
    "\n",
    "print(ypr)"
   ]
  },
  {
   "cell_type": "code",
   "execution_count": null,
   "metadata": {},
   "outputs": [],
   "source": []
  },
  {
   "cell_type": "code",
   "execution_count": null,
   "metadata": {},
   "outputs": [
    {
     "name": "stderr",
     "output_type": "stream",
     "text": [
      "/Users/andyc/opt/anaconda3/lib/python3.9/site-packages/seaborn/_decorators.py:36: FutureWarning: Pass the following variables as keyword args: x, y. From version 0.12, the only valid positional argument will be `data`, and passing other arguments without an explicit keyword will result in an error or misinterpretation.\n",
      "  warnings.warn(\n",
      "/Users/andyc/opt/anaconda3/lib/python3.9/site-packages/seaborn/_decorators.py:36: FutureWarning: Pass the following variables as keyword args: x, y. From version 0.12, the only valid positional argument will be `data`, and passing other arguments without an explicit keyword will result in an error or misinterpretation.\n",
      "  warnings.warn(\n"
     ]
    },
    {
     "data": {
      "image/png": "[encoded data removed]",
      "text/plain": [
       "<Figure size 1080x720 with 1 Axes>"
      ]
     },
     "metadata": {
      "needs_background": "light"
     },
     "output_type": "display_data"
    }
   ],
   "source": [
    "#Convert data column date back into date form\n",
    "for i in range(len(XX_test)):\n",
    "  your_timestamp = XX_test.iloc[i,0]\n",
    "  date = datetime.datetime.fromtimestamp(your_timestamp/1e9)\n",
    "  XX_test.iloc[i,0] = date.date()\n",
    "XX_test.date = pd.to_datetime(XX_test['date'])\n",
    "#plots the Random Forrest model\n",
    "#plot the predictions\n",
    "from pylab import rcParams\n",
    "rcParams['figure.figsize'] = 15, 10\n",
    "plt.plot(data['date'],y, label =\"actual data\")\n",
    "ax = sns.lineplot(X_test.date,ypr_rf, label =\"random forest\")\n",
    "ax = sns.lineplot(X_test['date'],y_pred, label =\"linear reg\")\n",
    "plt.ylabel(\"Stock price\")\n",
    "plt.show()\n"
   ]
  },
  {
   "cell_type": "code",
   "execution_count": null,
   "metadata": {},
   "outputs": [
    {
     "data": {
      "image/png": "[encoded data removed]",
      "text/plain": [
       "<Figure size 216x576 with 1 Axes>"
      ]
     },
     "metadata": {
      "needs_background": "light"
     },
     "output_type": "display_data"
    }
   ],
   "source": [
    "#Plot variable importance\n",
    "importances = rf.feature_importances_\n",
    "indices = np.argsort(importances)[::-1] \n",
    "\n",
    "f, ax = plt.subplots(figsize=(3,8))\n",
    "sns.barplot(y=X.columns,x=importances[indices],label=\"Total\")\n",
    "plt.title(\"Variable Importance - Random Forest\")\n",
    "ax.set(ylabel=\"Variable\",xlabel=\"Variable Importance\")\n",
    "sns.despine(left=True, bottom=True)\n",
    "plt.show()"
   ]
  },
  {
   "cell_type": "code",
   "execution_count": null,
   "metadata": {},
   "outputs": [
    {
     "name": "stdout",
     "output_type": "stream",
     "text": [
      "0.545209670598679\n",
      "0.7383831462043801\n",
      "66.23829590471408\n",
      "8.13869128943432\n"
     ]
    }
   ],
   "source": [
    "from sklearn.metrics import mean_squared_error\n",
    "mse = mean_squared_error(y_test,ypr_rf)\n",
    "rmse_rf = np.sqrt(mean_squared_error(y_test,ypr_rf))\n",
    "print(mse)\n",
    "print(rmse_rf)\n",
    "\n"
   ]
  }
 ],
 "metadata": {
  "colab": {
   "collapsed_sections": [],
   "name": "ML_Project_Stocks.ipynb",
   "provenance": []
  },
  "interpreter": {
   "hash": "082e9a3bcad0a290d0001e938aa60b99250c6c2ef33a923c00b70f9826caf4b7"
  },
  "kernelspec": {
   "display_name": "Python 3",
   "language": "python",
   "name": "python3"
  },
  "language_info": {
   "codemirror_mode": {
    "name": "ipython",
    "version": 3
   },
   "file_extension": ".py",
   "mimetype": "text/x-python",
   "name": "python",
   "nbconvert_exporter": "python",
   "pygments_lexer": "ipython3",
   "version": "3.9.7"
  }
 },
 "nbformat": 4,
 "nbformat_minor": 1
}
